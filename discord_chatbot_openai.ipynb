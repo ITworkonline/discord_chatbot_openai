{
 "cells": [
  {
   "cell_type": "code",
   "execution_count": 1,
   "id": "e9e27ba0",
   "metadata": {},
   "outputs": [],
   "source": [
    "import os \n",
    "import discord\n",
    "import openai\n",
    "import nest_asyncio"
   ]
  },
  {
   "cell_type": "code",
   "execution_count": 2,
   "id": "08e2cdea",
   "metadata": {},
   "outputs": [],
   "source": [
    "nest_asyncio.apply()"
   ]
  },
  {
   "cell_type": "code",
   "execution_count": 3,
   "id": "d13d439c",
   "metadata": {},
   "outputs": [],
   "source": [
    "DISCORD_TOKEN = \"YOUR_DISCORD_TOKEN\"\n",
    "OPENAI_API_KEY = \"YOUR_OPENAI_API_KEY\"\n",
    "openai.api_key = OPENAI_API_KEY\n",
    "intents = discord.Intents.default()\n",
    "intents.messages = True"
   ]
  },
  {
   "cell_type": "code",
   "execution_count": null,
   "id": "c5bf86ed",
   "metadata": {},
   "outputs": [
    {
     "name": "stderr",
     "output_type": "stream",
     "text": [
      "[2023-03-26 16:12:33] [INFO    ] discord.client: logging in using static token\n",
      "[2023-03-26 16:12:34] [INFO    ] discord.gateway: Shard ID None has connected to Gateway (Session ID: b710065ecfa1dd6ecbbf342e6cd6f953).\n"
     ]
    },
    {
     "name": "stdout",
     "output_type": "stream",
     "text": [
      "chatgpt#2188 is connected to Discord!\n"
     ]
    }
   ],
   "source": [
    "\n",
    "class ChatBot(discord.Client):\n",
    "    async def on_ready(self):\n",
    "        print(f'{self.user} is connected to Discord!')\n",
    "              \n",
    "    async def on_message(self, message):\n",
    "        if message.author == self.user:\n",
    "            return\n",
    "\n",
    "        input_content = message.content\n",
    "        \n",
    "        if message.attachments:\n",
    "            for attachment in message.attachments:\n",
    "                image_bytes = await attachment.read()\n",
    "                input_content += \" {\" + \"image\" + \": \" + str(image_bytes) + \"}\"\n",
    "        \n",
    "        response = openai.ChatCompletion.create(\n",
    "            model=\"gpt-3.5-turbo\",\n",
    "            messages=[{\"role\":\"user\",\"content\":input_content}]\n",
    "        )\n",
    "        \n",
    "        assistant_response = response[\"choices\"][0][\"message\"]['content']\n",
    "        \n",
    "        await message.channel.send(assistant_response)\n",
    "\n",
    "client = ChatBot(intents=intents)\n",
    "client.run(DISCORD_TOKEN)"
   ]
  },
  {
   "cell_type": "code",
   "execution_count": null,
   "id": "4ee956fe",
   "metadata": {},
   "outputs": [],
   "source": []
  },
  {
   "cell_type": "code",
   "execution_count": null,
   "id": "41d67348",
   "metadata": {},
   "outputs": [],
   "source": []
  }
 ],
 "metadata": {
  "kernelspec": {
   "display_name": "Python 3",
   "language": "python",
   "name": "python3"
  },
  "language_info": {
   "codemirror_mode": {
    "name": "ipython",
    "version": 3
   },
   "file_extension": ".py",
   "mimetype": "text/x-python",
   "name": "python",
   "nbconvert_exporter": "python",
   "pygments_lexer": "ipython3",
   "version": "3.8.8"
  }
 },
 "nbformat": 4,
 "nbformat_minor": 5
}
